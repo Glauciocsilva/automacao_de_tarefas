{
 "cells": [
  {
   "cell_type": "markdown",
   "id": "53b426af",
   "metadata": {},
   "source": [
    "# Objetivo:Otimizar o envio de e-mails todos os dias com a analise de uma ação da bolsa de valores para o gestor."
   ]
  },
  {
   "cell_type": "markdown",
   "id": "6388c3ca",
   "metadata": {},
   "source": [
    "# Analise do Problema \n",
    "- Buscar dados dos valores automaticamente do site Yahoo finance\n",
    "- Gerar as analises solicitadas de forma automatica \n",
    "- enviar o email automaticamente com os resultados das análises"
   ]
  },
  {
   "cell_type": "markdown",
   "id": "e61faef1",
   "metadata": {},
   "source": [
    "Passo a Passo descrevendo o codigo \n",
    "- Instalar e Importar as Bibliotecas necessárias para o projeto. \n",
    "yfinance - acessa dados diretamente do site yahoo finance, precisa apenas do ticker(Sigla da ação) da ação desejada, e o historico de quantos dias ou mes para analise.\n",
    "\n",
    "- guardar tabela da ação em uma variável\n"
   ]
  },
  {
   "cell_type": "code",
   "execution_count": 3,
   "id": "ea840822",
   "metadata": {
    "collapsed": true
   },
   "outputs": [
    {
     "name": "stdout",
     "output_type": "stream",
     "text": [
      "Requirement already satisfied: yfinance in c:\\users\\glauc\\anaconda3\\lib\\site-packages (0.1.87)\n",
      "Requirement already satisfied: lxml>=4.5.1 in c:\\users\\glauc\\anaconda3\\lib\\site-packages (from yfinance) (4.8.0)\n",
      "Requirement already satisfied: appdirs>=1.4.4 in c:\\users\\glauc\\anaconda3\\lib\\site-packages (from yfinance) (1.4.4)\n",
      "Requirement already satisfied: numpy>=1.15 in c:\\users\\glauc\\anaconda3\\lib\\site-packages (from yfinance) (1.21.5)\n",
      "Requirement already satisfied: requests>=2.26 in c:\\users\\glauc\\anaconda3\\lib\\site-packages (from yfinance) (2.27.1)\n",
      "Requirement already satisfied: multitasking>=0.0.7 in c:\\users\\glauc\\anaconda3\\lib\\site-packages (from yfinance) (0.0.11)\n",
      "Requirement already satisfied: pandas>=0.24.0 in c:\\users\\glauc\\anaconda3\\lib\\site-packages (from yfinance) (1.4.2)\n",
      "Requirement already satisfied: pytz>=2020.1 in c:\\users\\glauc\\anaconda3\\lib\\site-packages (from pandas>=0.24.0->yfinance) (2021.3)\n",
      "Requirement already satisfied: python-dateutil>=2.8.1 in c:\\users\\glauc\\anaconda3\\lib\\site-packages (from pandas>=0.24.0->yfinance) (2.8.2)\n",
      "Requirement already satisfied: six>=1.5 in c:\\users\\glauc\\anaconda3\\lib\\site-packages (from python-dateutil>=2.8.1->pandas>=0.24.0->yfinance) (1.16.0)\n",
      "Requirement already satisfied: urllib3<1.27,>=1.21.1 in c:\\users\\glauc\\anaconda3\\lib\\site-packages (from requests>=2.26->yfinance) (1.26.9)\n",
      "Requirement already satisfied: idna<4,>=2.5 in c:\\users\\glauc\\anaconda3\\lib\\site-packages (from requests>=2.26->yfinance) (3.3)\n",
      "Requirement already satisfied: certifi>=2017.4.17 in c:\\users\\glauc\\anaconda3\\lib\\site-packages (from requests>=2.26->yfinance) (2021.10.8)\n",
      "Requirement already satisfied: charset-normalizer~=2.0.0 in c:\\users\\glauc\\anaconda3\\lib\\site-packages (from requests>=2.26->yfinance) (2.0.4)\n"
     ]
    }
   ],
   "source": [
    "!pip install yfinance"
   ]
  },
  {
   "cell_type": "code",
   "execution_count": 4,
   "id": "22f467c9",
   "metadata": {},
   "outputs": [],
   "source": [
    "import yfinance"
   ]
  },
  {
   "cell_type": "code",
   "execution_count": 21,
   "id": "6c24f7d4",
   "metadata": {},
   "outputs": [
    {
     "name": "stdout",
     "output_type": "stream",
     "text": [
      "Digite a sigla da ação desejada: petr4.sa\n",
      "Date\n",
      "2022-06-06 00:00:00-03:00    21.587563\n",
      "2022-06-07 00:00:00-03:00    21.844048\n",
      "2022-06-08 00:00:00-03:00    21.737179\n",
      "2022-06-09 00:00:00-03:00    21.423697\n",
      "2022-06-10 00:00:00-03:00    21.124464\n",
      "                               ...    \n",
      "2022-11-30 00:00:00-03:00    26.660000\n",
      "2022-12-01 00:00:00-03:00    25.590000\n",
      "2022-12-02 00:00:00-03:00    25.910000\n",
      "2022-12-05 00:00:00-03:00    25.620001\n",
      "2022-12-06 00:00:00-03:00    25.639999\n",
      "Name: Close, Length: 127, dtype: float64\n"
     ]
    },
    {
     "data": {
      "text/plain": [
       "<AxesSubplot:xlabel='Date'>"
      ]
     },
     "execution_count": 21,
     "metadata": {},
     "output_type": "execute_result"
    },
    {
     "data": {
      "image/png": "[encoded data removed]",
      "text/plain": [
       "<Figure size 432x288 with 1 Axes>"
      ]
     },
     "metadata": {
      "needs_background": "light"
     },
     "output_type": "display_data"
    }
   ],
   "source": [
    "ticker = input(\"Digite a sigla da ação desejada: \")\n",
    "dados = yfinance.Ticker(ticker).history(\"6mo\")\n",
    "fechamento = dados.Close\n",
    "print(fechamento)\n",
    "fechamento.plot()"
   ]
  },
  {
   "cell_type": "markdown",
   "id": "3ad1c02a",
   "metadata": {},
   "source": [
    "Analise dos últimos 6 meses:\n",
    "- cotação minima\n",
    "- cotação maxima\n",
    "- cotação atual"
   ]
  },
  {
   "cell_type": "code",
   "execution_count": 32,
   "id": "11c661cc",
   "metadata": {},
   "outputs": [],
   "source": [
    "maxima = fechamento.max()\n",
    "minima = fechamento.min()\n",
    "atual = fechamento[-1]"
   ]
  },
  {
   "cell_type": "markdown",
   "id": "b838844c",
   "metadata": {},
   "source": [
    "# Descrevendo passo para Enviar e-mail:\n",
    "\n",
    "- Abrir uma nova aba no navegador e digitar o enderço de gmail\n",
    "- clicar no botao escrever\n",
    "- preencher o email do destinatario\n",
    "- preencher assunto\n",
    "- preencher corpo do email \n",
    "- clicar em enviar\n"
   ]
  },
  {
   "cell_type": "markdown",
   "id": "4aae3600",
   "metadata": {},
   "source": [
    "# Bibliotecas necessárias:\n",
    "\n",
    "pyautogui - comando de mouse e teclado\n",
    "pyperclip - copiar texto "
   ]
  },
  {
   "cell_type": "code",
   "execution_count": 33,
   "id": "109343ed",
   "metadata": {},
   "outputs": [
    {
     "name": "stdout",
     "output_type": "stream",
     "text": [
      "Requirement already satisfied: pyautogui in c:\\users\\glauc\\anaconda3\\lib\\site-packages (0.9.53)\n",
      "Requirement already satisfied: mouseinfo in c:\\users\\glauc\\anaconda3\\lib\\site-packages (from pyautogui) (0.1.3)\n",
      "Requirement already satisfied: pygetwindow>=0.0.5 in c:\\users\\glauc\\anaconda3\\lib\\site-packages (from pyautogui) (0.0.9)\n",
      "Requirement already satisfied: pymsgbox in c:\\users\\glauc\\anaconda3\\lib\\site-packages (from pyautogui) (1.0.9)\n",
      "Requirement already satisfied: pyscreeze>=0.1.21 in c:\\users\\glauc\\anaconda3\\lib\\site-packages (from pyautogui) (0.1.28)\n",
      "Requirement already satisfied: PyTweening>=1.0.1 in c:\\users\\glauc\\anaconda3\\lib\\site-packages (from pyautogui) (1.0.4)\n",
      "Requirement already satisfied: pyrect in c:\\users\\glauc\\anaconda3\\lib\\site-packages (from pygetwindow>=0.0.5->pyautogui) (0.2.0)\n",
      "Requirement already satisfied: pyperclip in c:\\users\\glauc\\anaconda3\\lib\\site-packages (from mouseinfo->pyautogui) (1.8.2)\n"
     ]
    }
   ],
   "source": [
    "!pip install pyautogui"
   ]
  },
  {
   "cell_type": "code",
   "execution_count": 34,
   "id": "5903a82d",
   "metadata": {},
   "outputs": [
    {
     "name": "stdout",
     "output_type": "stream",
     "text": [
      "Requirement already satisfied: pyperclip in c:\\users\\glauc\\anaconda3\\lib\\site-packages (1.8.2)\n"
     ]
    }
   ],
   "source": [
    "!pip install pyperclip"
   ]
  },
  {
   "cell_type": "code",
   "execution_count": 35,
   "id": "7e0d745a",
   "metadata": {},
   "outputs": [],
   "source": [
    "import pyautogui\n",
    "import pyperclip"
   ]
  },
  {
   "cell_type": "code",
   "execution_count": 55,
   "id": "264e8949",
   "metadata": {},
   "outputs": [],
   "source": [
    "pyautogui.PAUSE = 4 #vai depender da velocidade da internet e do computador de cada um\n",
    "\n",
    "#Abrir uma nova aba no navegador e digitar o enderço de gmail.\n",
    "pyautogui.hotkey(\"ctrl\",\"t\")\n",
    "pyperclip.copy('www.gmail.com')\n",
    "pyautogui.hotkey(\"ctrl\", \"v\")\n",
    "pyautogui.hotkey(\"enter\")\n",
    "\n",
    "# clicar no botao escrever,preencher o email do destinatario e preencher assunto\n",
    "\n",
    "pyautogui.click(x=50, y=188)\n",
    "pyperclip.copy(\"glauciocsilva@gmail.com\")\n",
    "pyautogui.hotkey(\"ctrl\", \"v\")\n",
    "pyautogui.hotkey('tab')\n",
    "pyperclip.copy(\"Analises diárias \")\n",
    "pyautogui.hotkey(\"ctrl\", \"v\")\n",
    "pyautogui.hotkey('tab')\n",
    "\n",
    "#preencher corpo do email\n",
    "\n",
    "mensagem = f\"\"\"\n",
    "Prezado Gestor, \n",
    "\n",
    "Segue a análise dos ultimos seis meses da ação {ticker}:\n",
    "\n",
    "Cotação minima: {round(minima, 2)}\n",
    "Cotação máxima: {round(maxima, 2)}\n",
    "Cotação Atual: {round(atual, 2)}\n",
    "\n",
    "Estou a disposição\n",
    "\n",
    "Atte.\n",
    "\n",
    "\"\"\"\n",
    "#Enviando Mensagem \n",
    "pyperclip.copy(mensagem)\n",
    "pyautogui.hotkey(\"ctrl\", \"v\")\n",
    "pyautogui.click(x=832, y=699)\n",
    "\n"
   ]
  },
  {
   "cell_type": "markdown",
   "id": "8955a3b8",
   "metadata": {},
   "source": [
    "# Função para identificar a posição correta do mouse "
   ]
  },
  {
   "cell_type": "code",
   "execution_count": 50,
   "id": "02e05703",
   "metadata": {},
   "outputs": [
    {
     "data": {
      "text/plain": [
       "Point(x=832, y=699)"
      ]
     },
     "execution_count": 50,
     "metadata": {},
     "output_type": "execute_result"
    }
   ],
   "source": [
    "import time\n",
    "time.sleep(5)\n",
    "pyautogui.position()"
   ]
  },
  {
   "cell_type": "code",
   "execution_count": null,
   "id": "22ef7c2f",
   "metadata": {},
   "outputs": [],
   "source": []
  }
 ],
 "metadata": {
  "kernelspec": {
   "display_name": "Python 3 (ipykernel)",
   "language": "python",
   "name": "python3"
  },
  "language_info": {
   "codemirror_mode": {
    "name": "ipython",
    "version": 3
   },
   "file_extension": ".py",
   "mimetype": "text/x-python",
   "name": "python",
   "nbconvert_exporter": "python",
   "pygments_lexer": "ipython3",
   "version": "3.9.12"
  }
 },
 "nbformat": 4,
 "nbformat_minor": 5
}
